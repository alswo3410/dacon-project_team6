{
 "cells": [
  {
   "cell_type": "markdown",
   "id": "3058594b-1840-4a88-a195-da42e9e2a42b",
   "metadata": {},
   "source": [
    "### 주택 소유율이 높은 지역은 경제적으로 더 안정적이며 고용률이 높다."
   ]
  },
  {
   "cell_type": "code",
   "execution_count": 50,
   "id": "177b00d6-71b9-4859-aee7-9600042819c0",
   "metadata": {},
   "outputs": [],
   "source": [
    "import pandas as pd\n",
    "import numpy as np\n",
    "import warnings \n",
    "warnings.filterwarnings('ignore')"
   ]
  },
  {
   "cell_type": "code",
   "execution_count": 2,
   "id": "89fcda54-92d9-42ce-8859-ef7a12d7c877",
   "metadata": {},
   "outputs": [],
   "source": [
    "df_myhome = pd.read_csv('자가점유가구비율/자가점유가구비율.csv')\n",
    "df_grdp = pd.read_csv('GRDP/GRDP_시도__20250721130128.csv')\n",
    "df_emp_r = pd.read_csv('고용률/고용률_시도__20250721130434.csv')"
   ]
  },
  {
   "cell_type": "markdown",
   "id": "b42ada89-3010-4b5a-bf0b-d185ff3a4858",
   "metadata": {},
   "source": [
    "### 자가점유가구비율"
   ]
  },
  {
   "cell_type": "code",
   "execution_count": 3,
   "id": "ced0e507-2f3f-460a-a0b2-69574813ad97",
   "metadata": {},
   "outputs": [
    {
     "data": {
      "text/html": [
       "<div>\n",
       "<style scoped>\n",
       "    .dataframe tbody tr th:only-of-type {\n",
       "        vertical-align: middle;\n",
       "    }\n",
       "\n",
       "    .dataframe tbody tr th {\n",
       "        vertical-align: top;\n",
       "    }\n",
       "\n",
       "    .dataframe thead th {\n",
       "        text-align: right;\n",
       "    }\n",
       "</style>\n",
       "<table border=\"1\" class=\"dataframe\">\n",
       "  <thead>\n",
       "    <tr style=\"text-align: right;\">\n",
       "      <th></th>\n",
       "      <th>연도</th>\n",
       "      <th>시도</th>\n",
       "      <th>비율</th>\n",
       "    </tr>\n",
       "  </thead>\n",
       "  <tbody>\n",
       "    <tr>\n",
       "      <th>0</th>\n",
       "      <td>2006</td>\n",
       "      <td>전국</td>\n",
       "      <td>55.6</td>\n",
       "    </tr>\n",
       "    <tr>\n",
       "      <th>1</th>\n",
       "      <td>2008</td>\n",
       "      <td>전국</td>\n",
       "      <td>56.4</td>\n",
       "    </tr>\n",
       "    <tr>\n",
       "      <th>2</th>\n",
       "      <td>2010</td>\n",
       "      <td>전국</td>\n",
       "      <td>54.3</td>\n",
       "    </tr>\n",
       "    <tr>\n",
       "      <th>3</th>\n",
       "      <td>2012</td>\n",
       "      <td>전국</td>\n",
       "      <td>53.8</td>\n",
       "    </tr>\n",
       "    <tr>\n",
       "      <th>4</th>\n",
       "      <td>2014</td>\n",
       "      <td>전국</td>\n",
       "      <td>53.6</td>\n",
       "    </tr>\n",
       "    <tr>\n",
       "      <th>...</th>\n",
       "      <td>...</td>\n",
       "      <td>...</td>\n",
       "      <td>...</td>\n",
       "    </tr>\n",
       "    <tr>\n",
       "      <th>268</th>\n",
       "      <td>2019</td>\n",
       "      <td>제주</td>\n",
       "      <td>58.1</td>\n",
       "    </tr>\n",
       "    <tr>\n",
       "      <th>269</th>\n",
       "      <td>2020</td>\n",
       "      <td>제주</td>\n",
       "      <td>58.6</td>\n",
       "    </tr>\n",
       "    <tr>\n",
       "      <th>270</th>\n",
       "      <td>2021</td>\n",
       "      <td>제주</td>\n",
       "      <td>56.6</td>\n",
       "    </tr>\n",
       "    <tr>\n",
       "      <th>271</th>\n",
       "      <td>2022</td>\n",
       "      <td>제주</td>\n",
       "      <td>56.84</td>\n",
       "    </tr>\n",
       "    <tr>\n",
       "      <th>272</th>\n",
       "      <td>2023</td>\n",
       "      <td>제주</td>\n",
       "      <td>57.1</td>\n",
       "    </tr>\n",
       "  </tbody>\n",
       "</table>\n",
       "<p>273 rows × 3 columns</p>\n",
       "</div>"
      ],
      "text/plain": [
       "       연도  시도     비율\n",
       "0    2006  전국   55.6\n",
       "1    2008  전국   56.4\n",
       "2    2010  전국   54.3\n",
       "3    2012  전국   53.8\n",
       "4    2014  전국   53.6\n",
       "..    ...  ..    ...\n",
       "268  2019  제주   58.1\n",
       "269  2020  제주   58.6\n",
       "270  2021  제주   56.6\n",
       "271  2022  제주  56.84\n",
       "272  2023  제주   57.1\n",
       "\n",
       "[273 rows x 3 columns]"
      ]
     },
     "execution_count": 3,
     "metadata": {},
     "output_type": "execute_result"
    }
   ],
   "source": [
    "df_myhome"
   ]
  },
  {
   "cell_type": "code",
   "execution_count": 4,
   "id": "10c1e855-87da-43be-b53a-426fb7873f40",
   "metadata": {},
   "outputs": [
    {
     "data": {
      "text/plain": [
       "연도\n",
       "2006    21\n",
       "2008    21\n",
       "2010    21\n",
       "2012    21\n",
       "2014    21\n",
       "2016    21\n",
       "2017    21\n",
       "2018    21\n",
       "2019    21\n",
       "2020    21\n",
       "2021    21\n",
       "2022    21\n",
       "2023    21\n",
       "Name: count, dtype: int64"
      ]
     },
     "execution_count": 4,
     "metadata": {},
     "output_type": "execute_result"
    }
   ],
   "source": [
    "df_myhome['연도'].value_counts()"
   ]
  },
  {
   "cell_type": "code",
   "execution_count": 5,
   "id": "48ac689c-f44f-42cd-aa61-dbe7d4a7f44a",
   "metadata": {},
   "outputs": [
    {
     "data": {
      "text/plain": [
       "시도\n",
       "전국     13\n",
       "수도권    13\n",
       "광역시    13\n",
       "도지역    13\n",
       "서울     13\n",
       "부산     13\n",
       "대구     13\n",
       "인천     13\n",
       "광주     13\n",
       "대전     13\n",
       "울산     13\n",
       "세종     13\n",
       "경기     13\n",
       "강원     13\n",
       "충북     13\n",
       "충남     13\n",
       "전북     13\n",
       "전남     13\n",
       "경북     13\n",
       "경남     13\n",
       "제주     13\n",
       "Name: count, dtype: int64"
      ]
     },
     "execution_count": 5,
     "metadata": {},
     "output_type": "execute_result"
    }
   ],
   "source": [
    "df_myhome['시도'].value_counts()"
   ]
  },
  {
   "cell_type": "code",
   "execution_count": 6,
   "id": "eea816cf-3a12-4324-afec-de77d6761fb0",
   "metadata": {},
   "outputs": [
    {
     "name": "stdout",
     "output_type": "stream",
     "text": [
      "<class 'pandas.core.frame.DataFrame'>\n",
      "RangeIndex: 273 entries, 0 to 272\n",
      "Data columns (total 3 columns):\n",
      " #   Column  Non-Null Count  Dtype \n",
      "---  ------  --------------  ----- \n",
      " 0   연도      273 non-null    int64 \n",
      " 1   시도      273 non-null    object\n",
      " 2   비율      273 non-null    object\n",
      "dtypes: int64(1), object(2)\n",
      "memory usage: 6.5+ KB\n"
     ]
    }
   ],
   "source": [
    "df_myhome.info()"
   ]
  },
  {
   "cell_type": "code",
   "execution_count": null,
   "id": "c124b200-ba50-489d-89aa-e06d619d9d8b",
   "metadata": {},
   "outputs": [],
   "source": []
  },
  {
   "cell_type": "code",
   "execution_count": null,
   "id": "a1d27889-8251-47ac-acf5-9de88188aff8",
   "metadata": {},
   "outputs": [],
   "source": []
  },
  {
   "cell_type": "code",
   "execution_count": null,
   "id": "48bd0c05-a002-41ef-acb5-b54a31815f14",
   "metadata": {},
   "outputs": [],
   "source": []
  },
  {
   "cell_type": "code",
   "execution_count": null,
   "id": "c33efe0d-f1d2-4b85-b3ed-b9c4e4aab18c",
   "metadata": {},
   "outputs": [],
   "source": []
  },
  {
   "cell_type": "code",
   "execution_count": null,
   "id": "5d2ac371-9c8c-4599-8457-2328670df203",
   "metadata": {},
   "outputs": [],
   "source": []
  },
  {
   "cell_type": "code",
   "execution_count": null,
   "id": "750442bf-0443-4112-8099-21df67d345a6",
   "metadata": {},
   "outputs": [],
   "source": []
  },
  {
   "cell_type": "markdown",
   "id": "0c82dd5f-19ef-4a63-a307-467ca1a555c2",
   "metadata": {},
   "source": [
    "### GRDP"
   ]
  },
  {
   "cell_type": "code",
   "execution_count": 7,
   "id": "6b9ee33d-2858-4ac6-8cf4-d29169571271",
   "metadata": {},
   "outputs": [
    {
     "data": {
      "text/html": [
       "<div>\n",
       "<style scoped>\n",
       "    .dataframe tbody tr th:only-of-type {\n",
       "        vertical-align: middle;\n",
       "    }\n",
       "\n",
       "    .dataframe tbody tr th {\n",
       "        vertical-align: top;\n",
       "    }\n",
       "\n",
       "    .dataframe thead th {\n",
       "        text-align: right;\n",
       "    }\n",
       "</style>\n",
       "<table border=\"1\" class=\"dataframe\">\n",
       "  <thead>\n",
       "    <tr style=\"text-align: right;\">\n",
       "      <th></th>\n",
       "      <th>시도별</th>\n",
       "      <th>경제활동별</th>\n",
       "      <th>항목</th>\n",
       "      <th>시점</th>\n",
       "      <th>데이터</th>\n",
       "    </tr>\n",
       "  </thead>\n",
       "  <tbody>\n",
       "    <tr>\n",
       "      <th>0</th>\n",
       "      <td>전국</td>\n",
       "      <td>지역내총생산(시장가격)</td>\n",
       "      <td>실질</td>\n",
       "      <td>2005</td>\n",
       "      <td>1280590240</td>\n",
       "    </tr>\n",
       "    <tr>\n",
       "      <th>1</th>\n",
       "      <td>전국</td>\n",
       "      <td>지역내총생산(시장가격)</td>\n",
       "      <td>실질</td>\n",
       "      <td>2006</td>\n",
       "      <td>1349602329</td>\n",
       "    </tr>\n",
       "    <tr>\n",
       "      <th>2</th>\n",
       "      <td>전국</td>\n",
       "      <td>지역내총생산(시장가격)</td>\n",
       "      <td>실질</td>\n",
       "      <td>2007</td>\n",
       "      <td>1427963356</td>\n",
       "    </tr>\n",
       "    <tr>\n",
       "      <th>3</th>\n",
       "      <td>전국</td>\n",
       "      <td>지역내총생산(시장가격)</td>\n",
       "      <td>실질</td>\n",
       "      <td>2008</td>\n",
       "      <td>1465186371</td>\n",
       "    </tr>\n",
       "    <tr>\n",
       "      <th>4</th>\n",
       "      <td>전국</td>\n",
       "      <td>지역내총생산(시장가격)</td>\n",
       "      <td>실질</td>\n",
       "      <td>2009</td>\n",
       "      <td>1480808102</td>\n",
       "    </tr>\n",
       "    <tr>\n",
       "      <th>...</th>\n",
       "      <td>...</td>\n",
       "      <td>...</td>\n",
       "      <td>...</td>\n",
       "      <td>...</td>\n",
       "      <td>...</td>\n",
       "    </tr>\n",
       "    <tr>\n",
       "      <th>329</th>\n",
       "      <td>제주특별자치도</td>\n",
       "      <td>지역내총생산(시장가격)</td>\n",
       "      <td>실질</td>\n",
       "      <td>2019</td>\n",
       "      <td>22951902</td>\n",
       "    </tr>\n",
       "    <tr>\n",
       "      <th>330</th>\n",
       "      <td>제주특별자치도</td>\n",
       "      <td>지역내총생산(시장가격)</td>\n",
       "      <td>실질</td>\n",
       "      <td>2020</td>\n",
       "      <td>21668785</td>\n",
       "    </tr>\n",
       "    <tr>\n",
       "      <th>331</th>\n",
       "      <td>제주특별자치도</td>\n",
       "      <td>지역내총생산(시장가격)</td>\n",
       "      <td>실질</td>\n",
       "      <td>2021</td>\n",
       "      <td>22346390</td>\n",
       "    </tr>\n",
       "    <tr>\n",
       "      <th>332</th>\n",
       "      <td>제주특별자치도</td>\n",
       "      <td>지역내총생산(시장가격)</td>\n",
       "      <td>실질</td>\n",
       "      <td>2022</td>\n",
       "      <td>23364427</td>\n",
       "    </tr>\n",
       "    <tr>\n",
       "      <th>333</th>\n",
       "      <td>제주특별자치도</td>\n",
       "      <td>지역내총생산(시장가격)</td>\n",
       "      <td>실질</td>\n",
       "      <td>2023 p)</td>\n",
       "      <td>24073959</td>\n",
       "    </tr>\n",
       "  </tbody>\n",
       "</table>\n",
       "<p>334 rows × 5 columns</p>\n",
       "</div>"
      ],
      "text/plain": [
       "         시도별         경제활동별  항목       시점         데이터\n",
       "0         전국  지역내총생산(시장가격)  실질     2005  1280590240\n",
       "1         전국  지역내총생산(시장가격)  실질     2006  1349602329\n",
       "2         전국  지역내총생산(시장가격)  실질     2007  1427963356\n",
       "3         전국  지역내총생산(시장가격)  실질     2008  1465186371\n",
       "4         전국  지역내총생산(시장가격)  실질     2009  1480808102\n",
       "..       ...           ...  ..      ...         ...\n",
       "329  제주특별자치도  지역내총생산(시장가격)  실질     2019    22951902\n",
       "330  제주특별자치도  지역내총생산(시장가격)  실질     2020    21668785\n",
       "331  제주특별자치도  지역내총생산(시장가격)  실질     2021    22346390\n",
       "332  제주특별자치도  지역내총생산(시장가격)  실질     2022    23364427\n",
       "333  제주특별자치도  지역내총생산(시장가격)  실질  2023 p)    24073959\n",
       "\n",
       "[334 rows x 5 columns]"
      ]
     },
     "execution_count": 7,
     "metadata": {},
     "output_type": "execute_result"
    }
   ],
   "source": [
    "df_grdp"
   ]
  },
  {
   "cell_type": "code",
   "execution_count": 9,
   "id": "b76ee46f-104b-46a2-b713-67f245b267b4",
   "metadata": {},
   "outputs": [],
   "source": [
    "# 해당 데이터는 실질 grdp만 가져왔기 때문에 항목 칼럼에 의미가 없다.\n",
    "# 경제활동별도 모두 같은 값을 가지기 때문에 칼럼에 의미가 없다.\n",
    "# 해당 칼럼들을 제거한다.\n",
    "df_grdp['항목'].value_counts()\n",
    "df_grdp['경제활동별'].value_counts()\n",
    "df_grdp.drop(['항목', '경제활동별'], axis = 1, inplace = True)"
   ]
  },
  {
   "cell_type": "code",
   "execution_count": 10,
   "id": "8d452317-9957-4156-b46e-44f5d346dda0",
   "metadata": {},
   "outputs": [],
   "source": [
    "# 데이터의 칼럼을 통일한다.\n",
    "df_grdp.columns = ['시도', '연도', 'GRDP']"
   ]
  },
  {
   "cell_type": "code",
   "execution_count": 11,
   "id": "07c414e4-d546-46ab-89c7-96c83cfacaa1",
   "metadata": {},
   "outputs": [
    {
     "data": {
      "text/plain": [
       "시도\n",
       "전국         19\n",
       "서울특별시      19\n",
       "부산광역시      19\n",
       "대구광역시      19\n",
       "인천광역시      19\n",
       "광주광역시      19\n",
       "대전광역시      19\n",
       "울산광역시      19\n",
       "경기도        19\n",
       "강원특별자치도    19\n",
       "전라남도       19\n",
       "충청북도       19\n",
       "충청남도       19\n",
       "전북특별자치도    19\n",
       "경상남도       19\n",
       "경상북도       19\n",
       "제주특별자치도    19\n",
       "세종특별자치시    11\n",
       "Name: count, dtype: int64"
      ]
     },
     "execution_count": 11,
     "metadata": {},
     "output_type": "execute_result"
    }
   ],
   "source": [
    "df_grdp['시도'].value_counts()"
   ]
  },
  {
   "cell_type": "code",
   "execution_count": 12,
   "id": "f602807c-1376-43a2-855c-3c670873f55e",
   "metadata": {},
   "outputs": [
    {
     "data": {
      "text/plain": [
       "연도\n",
       "2013       18\n",
       "2015       18\n",
       "2014       18\n",
       "2022       18\n",
       "2021       18\n",
       "2023 p)    18\n",
       "2020       18\n",
       "2019       18\n",
       "2018       18\n",
       "2017       18\n",
       "2016       18\n",
       "2007       17\n",
       "2006       17\n",
       "2005       17\n",
       "2012       17\n",
       "2008       17\n",
       "2009       17\n",
       "2010       17\n",
       "2011       17\n",
       "Name: count, dtype: int64"
      ]
     },
     "execution_count": 12,
     "metadata": {},
     "output_type": "execute_result"
    }
   ],
   "source": [
    "df_grdp['연도'].value_counts()"
   ]
  },
  {
   "cell_type": "code",
   "execution_count": 13,
   "id": "c0368640-c824-44c3-999c-ac988b99051b",
   "metadata": {},
   "outputs": [
    {
     "name": "stdout",
     "output_type": "stream",
     "text": [
      "<class 'pandas.core.frame.DataFrame'>\n",
      "RangeIndex: 334 entries, 0 to 333\n",
      "Data columns (total 3 columns):\n",
      " #   Column  Non-Null Count  Dtype \n",
      "---  ------  --------------  ----- \n",
      " 0   시도      334 non-null    object\n",
      " 1   연도      334 non-null    object\n",
      " 2   GRDP    334 non-null    int64 \n",
      "dtypes: int64(1), object(2)\n",
      "memory usage: 8.0+ KB\n"
     ]
    }
   ],
   "source": [
    "df_grdp.info()"
   ]
  },
  {
   "cell_type": "code",
   "execution_count": 14,
   "id": "f35f720b-08c6-4bb3-8d74-f1ee0c696d44",
   "metadata": {},
   "outputs": [],
   "source": [
    "df_grdp.loc[df_grdp['연도'] == '2023 p)', '연도'] = 2023"
   ]
  },
  {
   "cell_type": "code",
   "execution_count": 15,
   "id": "32a94bdc-75ae-4d59-a12d-3eaf26ad0f7d",
   "metadata": {},
   "outputs": [],
   "source": [
    "df_grdp['연도'] = df_grdp['연도'].astype(int)"
   ]
  },
  {
   "cell_type": "code",
   "execution_count": null,
   "id": "99eb8439-3498-4dbe-b51c-37570872fc29",
   "metadata": {},
   "outputs": [],
   "source": []
  },
  {
   "cell_type": "code",
   "execution_count": null,
   "id": "29df393c-d63d-4593-98ff-8364ecc65d8e",
   "metadata": {},
   "outputs": [],
   "source": []
  },
  {
   "cell_type": "code",
   "execution_count": null,
   "id": "777430a8-12ef-4c27-bd15-f0ddf4a0fcb2",
   "metadata": {},
   "outputs": [],
   "source": []
  },
  {
   "cell_type": "code",
   "execution_count": null,
   "id": "49fabf0d-d3e5-441f-939e-4bba67d3023b",
   "metadata": {},
   "outputs": [],
   "source": []
  },
  {
   "cell_type": "markdown",
   "id": "8823b15e-e981-4a2f-8f91-deb6cb9a63c9",
   "metadata": {},
   "source": [
    "### 고용률"
   ]
  },
  {
   "cell_type": "code",
   "execution_count": 16,
   "id": "3d3420b8-7682-4c40-ac6b-e9088891184e",
   "metadata": {},
   "outputs": [
    {
     "data": {
      "text/html": [
       "<div>\n",
       "<style scoped>\n",
       "    .dataframe tbody tr th:only-of-type {\n",
       "        vertical-align: middle;\n",
       "    }\n",
       "\n",
       "    .dataframe tbody tr th {\n",
       "        vertical-align: top;\n",
       "    }\n",
       "\n",
       "    .dataframe thead th {\n",
       "        text-align: right;\n",
       "    }\n",
       "</style>\n",
       "<table border=\"1\" class=\"dataframe\">\n",
       "  <thead>\n",
       "    <tr style=\"text-align: right;\">\n",
       "      <th></th>\n",
       "      <th>시도별</th>\n",
       "      <th>시점</th>\n",
       "      <th>성별</th>\n",
       "      <th>데이터</th>\n",
       "    </tr>\n",
       "  </thead>\n",
       "  <tbody>\n",
       "    <tr>\n",
       "      <th>0</th>\n",
       "      <td>계</td>\n",
       "      <td>2005</td>\n",
       "      <td>계</td>\n",
       "      <td>59.9</td>\n",
       "    </tr>\n",
       "    <tr>\n",
       "      <th>1</th>\n",
       "      <td>계</td>\n",
       "      <td>2005</td>\n",
       "      <td>남자</td>\n",
       "      <td>71.9</td>\n",
       "    </tr>\n",
       "    <tr>\n",
       "      <th>2</th>\n",
       "      <td>계</td>\n",
       "      <td>2005</td>\n",
       "      <td>여자</td>\n",
       "      <td>48.6</td>\n",
       "    </tr>\n",
       "    <tr>\n",
       "      <th>3</th>\n",
       "      <td>계</td>\n",
       "      <td>2006</td>\n",
       "      <td>계</td>\n",
       "      <td>60.0</td>\n",
       "    </tr>\n",
       "    <tr>\n",
       "      <th>4</th>\n",
       "      <td>계</td>\n",
       "      <td>2006</td>\n",
       "      <td>남자</td>\n",
       "      <td>71.6</td>\n",
       "    </tr>\n",
       "    <tr>\n",
       "      <th>...</th>\n",
       "      <td>...</td>\n",
       "      <td>...</td>\n",
       "      <td>...</td>\n",
       "      <td>...</td>\n",
       "    </tr>\n",
       "    <tr>\n",
       "      <th>1039</th>\n",
       "      <td>제주도</td>\n",
       "      <td>2023</td>\n",
       "      <td>남자</td>\n",
       "      <td>75.5</td>\n",
       "    </tr>\n",
       "    <tr>\n",
       "      <th>1040</th>\n",
       "      <td>제주도</td>\n",
       "      <td>2023</td>\n",
       "      <td>여자</td>\n",
       "      <td>63.1</td>\n",
       "    </tr>\n",
       "    <tr>\n",
       "      <th>1041</th>\n",
       "      <td>제주도</td>\n",
       "      <td>2024</td>\n",
       "      <td>계</td>\n",
       "      <td>69.3</td>\n",
       "    </tr>\n",
       "    <tr>\n",
       "      <th>1042</th>\n",
       "      <td>제주도</td>\n",
       "      <td>2024</td>\n",
       "      <td>남자</td>\n",
       "      <td>74.6</td>\n",
       "    </tr>\n",
       "    <tr>\n",
       "      <th>1043</th>\n",
       "      <td>제주도</td>\n",
       "      <td>2024</td>\n",
       "      <td>여자</td>\n",
       "      <td>64.1</td>\n",
       "    </tr>\n",
       "  </tbody>\n",
       "</table>\n",
       "<p>1044 rows × 4 columns</p>\n",
       "</div>"
      ],
      "text/plain": [
       "      시도별    시점  성별   데이터\n",
       "0       계  2005   계  59.9\n",
       "1       계  2005  남자  71.9\n",
       "2       계  2005  여자  48.6\n",
       "3       계  2006   계  60.0\n",
       "4       계  2006  남자  71.6\n",
       "...   ...   ...  ..   ...\n",
       "1039  제주도  2023  남자  75.5\n",
       "1040  제주도  2023  여자  63.1\n",
       "1041  제주도  2024   계  69.3\n",
       "1042  제주도  2024  남자  74.6\n",
       "1043  제주도  2024  여자  64.1\n",
       "\n",
       "[1044 rows x 4 columns]"
      ]
     },
     "execution_count": 16,
     "metadata": {},
     "output_type": "execute_result"
    }
   ],
   "source": [
    "df_emp_r"
   ]
  },
  {
   "cell_type": "markdown",
   "id": "aaa351c7-5616-42fe-95da-7086a4d946bf",
   "metadata": {},
   "source": [
    "- 세 파일을 합하기 위해 성별요인은 제거한다."
   ]
  },
  {
   "cell_type": "code",
   "execution_count": 17,
   "id": "6dd0bc04-04bd-41f6-8ac3-edb59badce7a",
   "metadata": {},
   "outputs": [],
   "source": [
    "df_emp_r2 = df_emp_r.loc[df_emp_r['성별'] == '계']"
   ]
  },
  {
   "cell_type": "code",
   "execution_count": 18,
   "id": "047e0ff9-1dc3-463b-a338-7a539153faf9",
   "metadata": {},
   "outputs": [],
   "source": [
    "df_emp_r2.drop('성별', axis = 1, inplace = True)"
   ]
  },
  {
   "cell_type": "code",
   "execution_count": 19,
   "id": "7c6c2b2d-f703-4a10-a8fa-3961c451b1ab",
   "metadata": {},
   "outputs": [
    {
     "data": {
      "text/html": [
       "<div>\n",
       "<style scoped>\n",
       "    .dataframe tbody tr th:only-of-type {\n",
       "        vertical-align: middle;\n",
       "    }\n",
       "\n",
       "    .dataframe tbody tr th {\n",
       "        vertical-align: top;\n",
       "    }\n",
       "\n",
       "    .dataframe thead th {\n",
       "        text-align: right;\n",
       "    }\n",
       "</style>\n",
       "<table border=\"1\" class=\"dataframe\">\n",
       "  <thead>\n",
       "    <tr style=\"text-align: right;\">\n",
       "      <th></th>\n",
       "      <th>시도별</th>\n",
       "      <th>시점</th>\n",
       "      <th>데이터</th>\n",
       "    </tr>\n",
       "  </thead>\n",
       "  <tbody>\n",
       "    <tr>\n",
       "      <th>0</th>\n",
       "      <td>계</td>\n",
       "      <td>2005</td>\n",
       "      <td>59.9</td>\n",
       "    </tr>\n",
       "    <tr>\n",
       "      <th>3</th>\n",
       "      <td>계</td>\n",
       "      <td>2006</td>\n",
       "      <td>60.0</td>\n",
       "    </tr>\n",
       "    <tr>\n",
       "      <th>6</th>\n",
       "      <td>계</td>\n",
       "      <td>2007</td>\n",
       "      <td>60.1</td>\n",
       "    </tr>\n",
       "    <tr>\n",
       "      <th>9</th>\n",
       "      <td>계</td>\n",
       "      <td>2008</td>\n",
       "      <td>59.8</td>\n",
       "    </tr>\n",
       "    <tr>\n",
       "      <th>12</th>\n",
       "      <td>계</td>\n",
       "      <td>2009</td>\n",
       "      <td>58.8</td>\n",
       "    </tr>\n",
       "    <tr>\n",
       "      <th>...</th>\n",
       "      <td>...</td>\n",
       "      <td>...</td>\n",
       "      <td>...</td>\n",
       "    </tr>\n",
       "    <tr>\n",
       "      <th>1029</th>\n",
       "      <td>제주도</td>\n",
       "      <td>2020</td>\n",
       "      <td>67.1</td>\n",
       "    </tr>\n",
       "    <tr>\n",
       "      <th>1032</th>\n",
       "      <td>제주도</td>\n",
       "      <td>2021</td>\n",
       "      <td>67.4</td>\n",
       "    </tr>\n",
       "    <tr>\n",
       "      <th>1035</th>\n",
       "      <td>제주도</td>\n",
       "      <td>2022</td>\n",
       "      <td>69.9</td>\n",
       "    </tr>\n",
       "    <tr>\n",
       "      <th>1038</th>\n",
       "      <td>제주도</td>\n",
       "      <td>2023</td>\n",
       "      <td>69.2</td>\n",
       "    </tr>\n",
       "    <tr>\n",
       "      <th>1041</th>\n",
       "      <td>제주도</td>\n",
       "      <td>2024</td>\n",
       "      <td>69.3</td>\n",
       "    </tr>\n",
       "  </tbody>\n",
       "</table>\n",
       "<p>348 rows × 3 columns</p>\n",
       "</div>"
      ],
      "text/plain": [
       "      시도별    시점   데이터\n",
       "0       계  2005  59.9\n",
       "3       계  2006  60.0\n",
       "6       계  2007  60.1\n",
       "9       계  2008  59.8\n",
       "12      계  2009  58.8\n",
       "...   ...   ...   ...\n",
       "1029  제주도  2020  67.1\n",
       "1032  제주도  2021  67.4\n",
       "1035  제주도  2022  69.9\n",
       "1038  제주도  2023  69.2\n",
       "1041  제주도  2024  69.3\n",
       "\n",
       "[348 rows x 3 columns]"
      ]
     },
     "execution_count": 19,
     "metadata": {},
     "output_type": "execute_result"
    }
   ],
   "source": [
    "df_emp_r2"
   ]
  },
  {
   "cell_type": "code",
   "execution_count": 20,
   "id": "add8c892-55bd-4b8b-a1c8-0d5eb8c695d7",
   "metadata": {},
   "outputs": [],
   "source": [
    "df_emp_r2.columns = ['시도', '연도', '고용률']"
   ]
  },
  {
   "cell_type": "code",
   "execution_count": 21,
   "id": "aac723b5-42e6-49ee-93fd-cb04ede09927",
   "metadata": {},
   "outputs": [
    {
     "name": "stdout",
     "output_type": "stream",
     "text": [
      "<class 'pandas.core.frame.DataFrame'>\n",
      "Index: 348 entries, 0 to 1041\n",
      "Data columns (total 3 columns):\n",
      " #   Column  Non-Null Count  Dtype  \n",
      "---  ------  --------------  -----  \n",
      " 0   시도      348 non-null    object \n",
      " 1   연도      348 non-null    int64  \n",
      " 2   고용률     348 non-null    float64\n",
      "dtypes: float64(1), int64(1), object(1)\n",
      "memory usage: 10.9+ KB\n"
     ]
    }
   ],
   "source": [
    "df_emp_r2.info()"
   ]
  },
  {
   "cell_type": "code",
   "execution_count": 22,
   "id": "2044381a-1d87-49db-8b6a-e57b10baf121",
   "metadata": {},
   "outputs": [],
   "source": [
    "df_emp_r2 = df_emp_r2.loc[(df_emp_r2['연도'] >= 2005) & (df_emp_r2['연도'] <= 2023)]"
   ]
  },
  {
   "cell_type": "code",
   "execution_count": null,
   "id": "c2271f58-1aa6-4188-89d6-8fa715637e9b",
   "metadata": {},
   "outputs": [],
   "source": []
  },
  {
   "cell_type": "code",
   "execution_count": null,
   "id": "22ccef60-1f70-460e-afda-6066306f8be1",
   "metadata": {},
   "outputs": [],
   "source": []
  },
  {
   "cell_type": "code",
   "execution_count": 23,
   "id": "6b642b83-5828-48bd-9a77-94848c9ba81a",
   "metadata": {},
   "outputs": [],
   "source": [
    "y_list = list(df_myhome['연도'].value_counts().index)"
   ]
  },
  {
   "cell_type": "code",
   "execution_count": 24,
   "id": "639b81ea-39fa-4875-a417-1a22e2659641",
   "metadata": {},
   "outputs": [
    {
     "data": {
      "text/html": [
       "<div>\n",
       "<style scoped>\n",
       "    .dataframe tbody tr th:only-of-type {\n",
       "        vertical-align: middle;\n",
       "    }\n",
       "\n",
       "    .dataframe tbody tr th {\n",
       "        vertical-align: top;\n",
       "    }\n",
       "\n",
       "    .dataframe thead th {\n",
       "        text-align: right;\n",
       "    }\n",
       "</style>\n",
       "<table border=\"1\" class=\"dataframe\">\n",
       "  <thead>\n",
       "    <tr style=\"text-align: right;\">\n",
       "      <th></th>\n",
       "      <th>시도</th>\n",
       "      <th>연도</th>\n",
       "      <th>GRDP</th>\n",
       "    </tr>\n",
       "  </thead>\n",
       "  <tbody>\n",
       "    <tr>\n",
       "      <th>1</th>\n",
       "      <td>전국</td>\n",
       "      <td>2006</td>\n",
       "      <td>1349602329</td>\n",
       "    </tr>\n",
       "    <tr>\n",
       "      <th>3</th>\n",
       "      <td>전국</td>\n",
       "      <td>2008</td>\n",
       "      <td>1465186371</td>\n",
       "    </tr>\n",
       "    <tr>\n",
       "      <th>5</th>\n",
       "      <td>전국</td>\n",
       "      <td>2010</td>\n",
       "      <td>1581956002</td>\n",
       "    </tr>\n",
       "    <tr>\n",
       "      <th>7</th>\n",
       "      <td>전국</td>\n",
       "      <td>2012</td>\n",
       "      <td>1677574227</td>\n",
       "    </tr>\n",
       "    <tr>\n",
       "      <th>9</th>\n",
       "      <td>전국</td>\n",
       "      <td>2014</td>\n",
       "      <td>1790169111</td>\n",
       "    </tr>\n",
       "    <tr>\n",
       "      <th>...</th>\n",
       "      <td>...</td>\n",
       "      <td>...</td>\n",
       "      <td>...</td>\n",
       "    </tr>\n",
       "    <tr>\n",
       "      <th>329</th>\n",
       "      <td>제주특별자치도</td>\n",
       "      <td>2019</td>\n",
       "      <td>22951902</td>\n",
       "    </tr>\n",
       "    <tr>\n",
       "      <th>330</th>\n",
       "      <td>제주특별자치도</td>\n",
       "      <td>2020</td>\n",
       "      <td>21668785</td>\n",
       "    </tr>\n",
       "    <tr>\n",
       "      <th>331</th>\n",
       "      <td>제주특별자치도</td>\n",
       "      <td>2021</td>\n",
       "      <td>22346390</td>\n",
       "    </tr>\n",
       "    <tr>\n",
       "      <th>332</th>\n",
       "      <td>제주특별자치도</td>\n",
       "      <td>2022</td>\n",
       "      <td>23364427</td>\n",
       "    </tr>\n",
       "    <tr>\n",
       "      <th>333</th>\n",
       "      <td>제주특별자치도</td>\n",
       "      <td>2023</td>\n",
       "      <td>24073959</td>\n",
       "    </tr>\n",
       "  </tbody>\n",
       "</table>\n",
       "<p>230 rows × 3 columns</p>\n",
       "</div>"
      ],
      "text/plain": [
       "          시도    연도        GRDP\n",
       "1         전국  2006  1349602329\n",
       "3         전국  2008  1465186371\n",
       "5         전국  2010  1581956002\n",
       "7         전국  2012  1677574227\n",
       "9         전국  2014  1790169111\n",
       "..       ...   ...         ...\n",
       "329  제주특별자치도  2019    22951902\n",
       "330  제주특별자치도  2020    21668785\n",
       "331  제주특별자치도  2021    22346390\n",
       "332  제주특별자치도  2022    23364427\n",
       "333  제주특별자치도  2023    24073959\n",
       "\n",
       "[230 rows x 3 columns]"
      ]
     },
     "execution_count": 24,
     "metadata": {},
     "output_type": "execute_result"
    }
   ],
   "source": [
    "df_grdp.loc[df_grdp['연도'].isin(y_list)]"
   ]
  },
  {
   "cell_type": "code",
   "execution_count": 25,
   "id": "6c74726d-4966-45f8-85c1-0b84c310166b",
   "metadata": {},
   "outputs": [],
   "source": [
    "df_grdp2 = df_grdp.loc[df_grdp['연도'].isin(y_list)]\n",
    "df_er2 = df_emp_r2.loc[df_emp_r2['연도'].isin(y_list)]"
   ]
  },
  {
   "cell_type": "code",
   "execution_count": null,
   "id": "e461c0b1-aa7e-4be2-93ba-dead782f5740",
   "metadata": {},
   "outputs": [],
   "source": []
  },
  {
   "cell_type": "code",
   "execution_count": null,
   "id": "83bf6d10-7f4e-4a06-9c9a-4a4cbd9a5e65",
   "metadata": {},
   "outputs": [],
   "source": []
  },
  {
   "cell_type": "code",
   "execution_count": null,
   "id": "41fee2c9-bec3-49a8-90b8-1be25e608faa",
   "metadata": {},
   "outputs": [],
   "source": []
  },
  {
   "cell_type": "code",
   "execution_count": 26,
   "id": "7c5e9d48-6152-41e1-8a3b-8481a83342b0",
   "metadata": {},
   "outputs": [],
   "source": [
    "standard_provinces = [\n",
    "    '서울특별시', '부산광역시', '대구광역시', '인천광역시', '광주광역시',\n",
    "    '대전광역시', '울산광역시', '세종특별자치시',\n",
    "    '경기도', '강원도', '충청북도', '충청남도',\n",
    "    '전라북도', '전라남도', '경상북도', '경상남도', '제주특별자치도'\n",
    "]\n",
    "\n",
    "province_map = {\n",
    "    '전국': '전국',\n",
    "    '서울': '서울특별시',\n",
    "    '부산': '부산광역시',\n",
    "    '대구': '대구광역시',\n",
    "    '인천': '인천광역시',\n",
    "    '광주': '광주광역시',\n",
    "    '대전': '대전광역시',\n",
    "    '울산': '울산광역시',\n",
    "    '세종': '세종특별자치시',\n",
    "    '경기': '경기도',\n",
    "    '강원': '강원도',\n",
    "    '충북': '충청북도',\n",
    "    '충남': '충청남도',\n",
    "    '전북': '전라북도',\n",
    "    '전남': '전라남도',\n",
    "    '경북': '경상북도',\n",
    "    '경남': '경상남도',\n",
    "    '제주': '제주특별자치도'\n",
    "}"
   ]
  },
  {
   "cell_type": "code",
   "execution_count": 27,
   "id": "bdd939a4-8055-400a-b617-6e92a359f41c",
   "metadata": {},
   "outputs": [],
   "source": [
    "# 수도권, 광역시, 도지역 제거\n",
    "df_myhome = df_myhome.loc[df_myhome['시도'].isin(['전국', '서울', '부산', '대구', '인천', '광주', '대전', '울산',\n",
    "                                                '세종', '경기', '강원', '충북', '충남', '전북', '전남', '경북', '경남', '제주'])]"
   ]
  },
  {
   "cell_type": "code",
   "execution_count": 28,
   "id": "8a255fcf-6de2-4bfc-8838-a3fe6d6f873f",
   "metadata": {},
   "outputs": [],
   "source": [
    "# 통일한 시도명으로 수정\n",
    "df_myhome['시도'] = df_myhome['시도'].map(province_map)"
   ]
  },
  {
   "cell_type": "code",
   "execution_count": 29,
   "id": "66ee61f9-abe1-40c1-90f2-3b7e3b8573a1",
   "metadata": {},
   "outputs": [
    {
     "data": {
      "text/html": [
       "<div>\n",
       "<style scoped>\n",
       "    .dataframe tbody tr th:only-of-type {\n",
       "        vertical-align: middle;\n",
       "    }\n",
       "\n",
       "    .dataframe tbody tr th {\n",
       "        vertical-align: top;\n",
       "    }\n",
       "\n",
       "    .dataframe thead th {\n",
       "        text-align: right;\n",
       "    }\n",
       "</style>\n",
       "<table border=\"1\" class=\"dataframe\">\n",
       "  <thead>\n",
       "    <tr style=\"text-align: right;\">\n",
       "      <th></th>\n",
       "      <th>연도</th>\n",
       "      <th>시도</th>\n",
       "      <th>비율</th>\n",
       "    </tr>\n",
       "  </thead>\n",
       "  <tbody>\n",
       "    <tr>\n",
       "      <th>0</th>\n",
       "      <td>2006</td>\n",
       "      <td>전국</td>\n",
       "      <td>55.6</td>\n",
       "    </tr>\n",
       "    <tr>\n",
       "      <th>1</th>\n",
       "      <td>2008</td>\n",
       "      <td>전국</td>\n",
       "      <td>56.4</td>\n",
       "    </tr>\n",
       "    <tr>\n",
       "      <th>2</th>\n",
       "      <td>2010</td>\n",
       "      <td>전국</td>\n",
       "      <td>54.3</td>\n",
       "    </tr>\n",
       "    <tr>\n",
       "      <th>3</th>\n",
       "      <td>2012</td>\n",
       "      <td>전국</td>\n",
       "      <td>53.8</td>\n",
       "    </tr>\n",
       "    <tr>\n",
       "      <th>4</th>\n",
       "      <td>2014</td>\n",
       "      <td>전국</td>\n",
       "      <td>53.6</td>\n",
       "    </tr>\n",
       "    <tr>\n",
       "      <th>...</th>\n",
       "      <td>...</td>\n",
       "      <td>...</td>\n",
       "      <td>...</td>\n",
       "    </tr>\n",
       "    <tr>\n",
       "      <th>268</th>\n",
       "      <td>2019</td>\n",
       "      <td>제주특별자치도</td>\n",
       "      <td>58.1</td>\n",
       "    </tr>\n",
       "    <tr>\n",
       "      <th>269</th>\n",
       "      <td>2020</td>\n",
       "      <td>제주특별자치도</td>\n",
       "      <td>58.6</td>\n",
       "    </tr>\n",
       "    <tr>\n",
       "      <th>270</th>\n",
       "      <td>2021</td>\n",
       "      <td>제주특별자치도</td>\n",
       "      <td>56.6</td>\n",
       "    </tr>\n",
       "    <tr>\n",
       "      <th>271</th>\n",
       "      <td>2022</td>\n",
       "      <td>제주특별자치도</td>\n",
       "      <td>56.84</td>\n",
       "    </tr>\n",
       "    <tr>\n",
       "      <th>272</th>\n",
       "      <td>2023</td>\n",
       "      <td>제주특별자치도</td>\n",
       "      <td>57.1</td>\n",
       "    </tr>\n",
       "  </tbody>\n",
       "</table>\n",
       "<p>234 rows × 3 columns</p>\n",
       "</div>"
      ],
      "text/plain": [
       "       연도       시도     비율\n",
       "0    2006       전국   55.6\n",
       "1    2008       전국   56.4\n",
       "2    2010       전국   54.3\n",
       "3    2012       전국   53.8\n",
       "4    2014       전국   53.6\n",
       "..    ...      ...    ...\n",
       "268  2019  제주특별자치도   58.1\n",
       "269  2020  제주특별자치도   58.6\n",
       "270  2021  제주특별자치도   56.6\n",
       "271  2022  제주특별자치도  56.84\n",
       "272  2023  제주특별자치도   57.1\n",
       "\n",
       "[234 rows x 3 columns]"
      ]
     },
     "execution_count": 29,
     "metadata": {},
     "output_type": "execute_result"
    }
   ],
   "source": [
    "df_myhome"
   ]
  },
  {
   "cell_type": "code",
   "execution_count": null,
   "id": "e316eac2-2104-4b9a-a909-8392b346b29c",
   "metadata": {},
   "outputs": [],
   "source": []
  },
  {
   "cell_type": "code",
   "execution_count": null,
   "id": "4346aefd-8c8d-494b-a6b9-c70cecdd0e1b",
   "metadata": {},
   "outputs": [],
   "source": []
  },
  {
   "cell_type": "code",
   "execution_count": null,
   "id": "24e7abd2-d93c-49f5-8855-f9347ab3c445",
   "metadata": {},
   "outputs": [],
   "source": []
  },
  {
   "cell_type": "code",
   "execution_count": 30,
   "id": "def3bb21-6d18-477f-8ed2-df081689e163",
   "metadata": {},
   "outputs": [],
   "source": [
    "df_grdp2.loc[df_grdp2['시도'] == '강원특별자치도', '시도'] = '강원도'\n",
    "df_grdp2.loc[df_grdp2['시도'] == '전북특별자치도', '시도'] = '전라북도'"
   ]
  },
  {
   "cell_type": "code",
   "execution_count": 31,
   "id": "ff26cdd8-5dcf-46b5-b2d8-42972bc91cf5",
   "metadata": {},
   "outputs": [
    {
     "data": {
      "text/plain": [
       "['전국',\n",
       " '서울특별시',\n",
       " '부산광역시',\n",
       " '대구광역시',\n",
       " '인천광역시',\n",
       " '광주광역시',\n",
       " '대전광역시',\n",
       " '울산광역시',\n",
       " '경기도',\n",
       " '강원도',\n",
       " '전라남도',\n",
       " '충청북도',\n",
       " '충청남도',\n",
       " '전라북도',\n",
       " '경상남도',\n",
       " '경상북도',\n",
       " '제주특별자치도',\n",
       " '세종특별자치시']"
      ]
     },
     "execution_count": 31,
     "metadata": {},
     "output_type": "execute_result"
    }
   ],
   "source": [
    "list(df_grdp2['시도'].value_counts().index)"
   ]
  },
  {
   "cell_type": "code",
   "execution_count": 32,
   "id": "8a574629-0d19-421e-9d73-af7f6af32ae8",
   "metadata": {},
   "outputs": [],
   "source": [
    "province_map = {\n",
    "    '전국': '전국',\n",
    "    '서울': '서울특별시',\n",
    "    '부산': '부산광역시',\n",
    "    '대구': '대구광역시',\n",
    "    '인천': '인천광역시',\n",
    "    '광주': '광주광역시',\n",
    "    '대전': '대전광역시',\n",
    "    '울산': '울산광역시',\n",
    "    '세종': '세종특별자치시',\n",
    "    '경기': '경기도',\n",
    "    '강원': '강원도',\n",
    "    '충북': '충청북도',\n",
    "    '충남': '충청남도',\n",
    "    '전북': '전라북도',\n",
    "    '전남': '전라남도',\n",
    "    '경북': '경상북도',\n",
    "    '경남': '경상남도',\n",
    "    '제주': '제주특별자치도'\n",
    "}"
   ]
  },
  {
   "cell_type": "code",
   "execution_count": 33,
   "id": "64eeb1a6-b9b1-4c38-950e-c6a775d5b992",
   "metadata": {},
   "outputs": [],
   "source": [
    "df_er2.loc[df_er2['시도'] == '계', '시도'] = '전국'\n",
    "df_er2.loc[df_er2['시도'] == '강원특별자치도', '시도'] = '강원도'\n",
    "df_er2.loc[df_er2['시도'] == '전북특별자치도', '시도'] = '전라북도'\n",
    "df_er2.loc[df_er2['시도'] == '제주도', '시도'] = '제주특별자치도'"
   ]
  },
  {
   "cell_type": "code",
   "execution_count": 34,
   "id": "0effbd1d-b2f7-48f0-9bf8-172eca8a364e",
   "metadata": {},
   "outputs": [
    {
     "data": {
      "text/plain": [
       "['전국',\n",
       " '서울특별시',\n",
       " '부산광역시',\n",
       " '대구광역시',\n",
       " '인천광역시',\n",
       " '광주광역시',\n",
       " '대전광역시',\n",
       " '울산광역시',\n",
       " '경기도',\n",
       " '강원도',\n",
       " '전라남도',\n",
       " '충청북도',\n",
       " '충청남도',\n",
       " '전라북도',\n",
       " '경상남도',\n",
       " '경상북도',\n",
       " '제주특별자치도',\n",
       " '세종특별자치시']"
      ]
     },
     "execution_count": 34,
     "metadata": {},
     "output_type": "execute_result"
    }
   ],
   "source": [
    "list(df_er2['시도'].value_counts().index)"
   ]
  },
  {
   "cell_type": "code",
   "execution_count": 35,
   "id": "49fa485d-b5ed-4731-8764-eff8745c602c",
   "metadata": {},
   "outputs": [],
   "source": [
    "df_er2 = df_er2.reset_index(drop = True)"
   ]
  },
  {
   "cell_type": "code",
   "execution_count": 36,
   "id": "a80409ef-6f5f-4414-80f7-c1cd04721ee6",
   "metadata": {},
   "outputs": [
    {
     "data": {
      "text/plain": [
       "연도\n",
       "2006    17\n",
       "2008    17\n",
       "2010    17\n",
       "2012    17\n",
       "2014    17\n",
       "2016    17\n",
       "2017    18\n",
       "2018    18\n",
       "2019    18\n",
       "2020    18\n",
       "2021    18\n",
       "2022    18\n",
       "2023    18\n",
       "Name: count, dtype: int64"
      ]
     },
     "execution_count": 36,
     "metadata": {},
     "output_type": "execute_result"
    }
   ],
   "source": [
    "df_er2['연도'].value_counts(sort = False)"
   ]
  },
  {
   "cell_type": "code",
   "execution_count": 37,
   "id": "2dd1652a-7115-401a-99f6-e011c9a2cd32",
   "metadata": {},
   "outputs": [
    {
     "data": {
      "text/plain": [
       "0"
      ]
     },
     "execution_count": 37,
     "metadata": {},
     "output_type": "execute_result"
    }
   ],
   "source": [
    "sum(df_grdp2.loc[(df_grdp2['연도'] >= 2006) & (df_grdp2['연도'] <= 2012)]['시도'] == '세종특별자치시')"
   ]
  },
  {
   "cell_type": "code",
   "execution_count": 38,
   "id": "c1c6a64e-5a76-4c08-9e12-c376b2b93a14",
   "metadata": {},
   "outputs": [
    {
     "data": {
      "text/plain": [
       "0"
      ]
     },
     "execution_count": 38,
     "metadata": {},
     "output_type": "execute_result"
    }
   ],
   "source": [
    "sum(df_er2.loc[(df_er2['연도'] >= 2006) & (df_er2['연도'] <= 2016)]['시도'] == '세종특별자치시')"
   ]
  },
  {
   "cell_type": "markdown",
   "id": "8edfcdeb-ac40-44d6-be26-cb40071d0ab5",
   "metadata": {},
   "source": [
    "- GRDP의 경우 2006 ~ 2012년도 까지, 고용률의 경우 2006 ~ 2016년도 까지 데이터가 없다.\n",
    "- 2012년도 세종시 출범 일을 고려하면 어느정도 맞음)\n",
    "- 해당 데이터를 0을 채워 넣는다."
   ]
  },
  {
   "cell_type": "code",
   "execution_count": 39,
   "id": "79a26119-08ff-432e-b243-747089d704bd",
   "metadata": {},
   "outputs": [],
   "source": [
    "# 누락된 연도\n",
    "missing_years = [2006, 2008, 2010, 2012]\n",
    "sejong_rows = [{'시도': '세종특별자치시', '연도': y, 'GRDP': 0} for y in missing_years]\n",
    "\n",
    "# 데이터프레임 생성 후 기존 df_grdp2에 추가\n",
    "df_grdp2 = pd.concat([df_grdp2, pd.DataFrame(sejong_rows)], ignore_index=True)\n",
    "\n",
    "# 정렬 및 인덱스 재설정\n",
    "df_grdp2 = df_grdp2.sort_values(by=['시도', '연도']).reset_index(drop=True)"
   ]
  },
  {
   "cell_type": "code",
   "execution_count": 40,
   "id": "947a9e33-8024-4c1d-bea2-8517edd1f769",
   "metadata": {},
   "outputs": [
    {
     "data": {
      "text/html": [
       "<div>\n",
       "<style scoped>\n",
       "    .dataframe tbody tr th:only-of-type {\n",
       "        vertical-align: middle;\n",
       "    }\n",
       "\n",
       "    .dataframe tbody tr th {\n",
       "        vertical-align: top;\n",
       "    }\n",
       "\n",
       "    .dataframe thead th {\n",
       "        text-align: right;\n",
       "    }\n",
       "</style>\n",
       "<table border=\"1\" class=\"dataframe\">\n",
       "  <thead>\n",
       "    <tr style=\"text-align: right;\">\n",
       "      <th></th>\n",
       "      <th>시도</th>\n",
       "      <th>연도</th>\n",
       "      <th>GRDP</th>\n",
       "    </tr>\n",
       "  </thead>\n",
       "  <tbody>\n",
       "    <tr>\n",
       "      <th>0</th>\n",
       "      <td>강원도</td>\n",
       "      <td>2006</td>\n",
       "      <td>34913848</td>\n",
       "    </tr>\n",
       "    <tr>\n",
       "      <th>1</th>\n",
       "      <td>강원도</td>\n",
       "      <td>2008</td>\n",
       "      <td>37292997</td>\n",
       "    </tr>\n",
       "    <tr>\n",
       "      <th>2</th>\n",
       "      <td>강원도</td>\n",
       "      <td>2010</td>\n",
       "      <td>39343638</td>\n",
       "    </tr>\n",
       "    <tr>\n",
       "      <th>3</th>\n",
       "      <td>강원도</td>\n",
       "      <td>2012</td>\n",
       "      <td>40960113</td>\n",
       "    </tr>\n",
       "    <tr>\n",
       "      <th>4</th>\n",
       "      <td>강원도</td>\n",
       "      <td>2014</td>\n",
       "      <td>44455174</td>\n",
       "    </tr>\n",
       "    <tr>\n",
       "      <th>...</th>\n",
       "      <td>...</td>\n",
       "      <td>...</td>\n",
       "      <td>...</td>\n",
       "    </tr>\n",
       "    <tr>\n",
       "      <th>229</th>\n",
       "      <td>충청북도</td>\n",
       "      <td>2019</td>\n",
       "      <td>77100362</td>\n",
       "    </tr>\n",
       "    <tr>\n",
       "      <th>230</th>\n",
       "      <td>충청북도</td>\n",
       "      <td>2020</td>\n",
       "      <td>75771650</td>\n",
       "    </tr>\n",
       "    <tr>\n",
       "      <th>231</th>\n",
       "      <td>충청북도</td>\n",
       "      <td>2021</td>\n",
       "      <td>80225958</td>\n",
       "    </tr>\n",
       "    <tr>\n",
       "      <th>232</th>\n",
       "      <td>충청북도</td>\n",
       "      <td>2022</td>\n",
       "      <td>83583153</td>\n",
       "    </tr>\n",
       "    <tr>\n",
       "      <th>233</th>\n",
       "      <td>충청북도</td>\n",
       "      <td>2023</td>\n",
       "      <td>83254787</td>\n",
       "    </tr>\n",
       "  </tbody>\n",
       "</table>\n",
       "<p>234 rows × 3 columns</p>\n",
       "</div>"
      ],
      "text/plain": [
       "       시도    연도      GRDP\n",
       "0     강원도  2006  34913848\n",
       "1     강원도  2008  37292997\n",
       "2     강원도  2010  39343638\n",
       "3     강원도  2012  40960113\n",
       "4     강원도  2014  44455174\n",
       "..    ...   ...       ...\n",
       "229  충청북도  2019  77100362\n",
       "230  충청북도  2020  75771650\n",
       "231  충청북도  2021  80225958\n",
       "232  충청북도  2022  83583153\n",
       "233  충청북도  2023  83254787\n",
       "\n",
       "[234 rows x 3 columns]"
      ]
     },
     "execution_count": 40,
     "metadata": {},
     "output_type": "execute_result"
    }
   ],
   "source": [
    "df_grdp2"
   ]
  },
  {
   "cell_type": "code",
   "execution_count": 43,
   "id": "223100fe-4b9a-4b9c-927c-c0aeabd65540",
   "metadata": {},
   "outputs": [],
   "source": [
    "# 누락된 연도 (세종시: 2006 ~ 2016)\n",
    "missing_years = [2006, 2008, 2010, 2012, 2014, 2016]  # 2006 ~ 2016 포함\n",
    "\n",
    "# 추가할 행 생성\n",
    "sejong_missing_rows = [{'시도': '세종특별자치시', '연도': year, '고용률': 0} for year in missing_years]\n",
    "\n",
    "# DataFrame으로 만들고 병합\n",
    "df_er2 = pd.concat([df_er2, pd.DataFrame(sejong_missing_rows)], ignore_index=True)\n",
    "\n",
    "# 정렬\n",
    "df_er2 = df_er2.sort_values(by=['시도', '연도']).reset_index(drop=True)\n"
   ]
  },
  {
   "cell_type": "code",
   "execution_count": 44,
   "id": "711b3324-4209-4040-b0c5-6506b100c3ac",
   "metadata": {},
   "outputs": [
    {
     "data": {
      "text/html": [
       "<div>\n",
       "<style scoped>\n",
       "    .dataframe tbody tr th:only-of-type {\n",
       "        vertical-align: middle;\n",
       "    }\n",
       "\n",
       "    .dataframe tbody tr th {\n",
       "        vertical-align: top;\n",
       "    }\n",
       "\n",
       "    .dataframe thead th {\n",
       "        text-align: right;\n",
       "    }\n",
       "</style>\n",
       "<table border=\"1\" class=\"dataframe\">\n",
       "  <thead>\n",
       "    <tr style=\"text-align: right;\">\n",
       "      <th></th>\n",
       "      <th>시도</th>\n",
       "      <th>연도</th>\n",
       "      <th>고용률</th>\n",
       "    </tr>\n",
       "  </thead>\n",
       "  <tbody>\n",
       "    <tr>\n",
       "      <th>0</th>\n",
       "      <td>강원도</td>\n",
       "      <td>2006</td>\n",
       "      <td>58.3</td>\n",
       "    </tr>\n",
       "    <tr>\n",
       "      <th>1</th>\n",
       "      <td>강원도</td>\n",
       "      <td>2008</td>\n",
       "      <td>57.6</td>\n",
       "    </tr>\n",
       "    <tr>\n",
       "      <th>2</th>\n",
       "      <td>강원도</td>\n",
       "      <td>2010</td>\n",
       "      <td>56.0</td>\n",
       "    </tr>\n",
       "    <tr>\n",
       "      <th>3</th>\n",
       "      <td>강원도</td>\n",
       "      <td>2012</td>\n",
       "      <td>56.9</td>\n",
       "    </tr>\n",
       "    <tr>\n",
       "      <th>4</th>\n",
       "      <td>강원도</td>\n",
       "      <td>2014</td>\n",
       "      <td>56.9</td>\n",
       "    </tr>\n",
       "    <tr>\n",
       "      <th>...</th>\n",
       "      <td>...</td>\n",
       "      <td>...</td>\n",
       "      <td>...</td>\n",
       "    </tr>\n",
       "    <tr>\n",
       "      <th>229</th>\n",
       "      <td>충청북도</td>\n",
       "      <td>2019</td>\n",
       "      <td>62.9</td>\n",
       "    </tr>\n",
       "    <tr>\n",
       "      <th>230</th>\n",
       "      <td>충청북도</td>\n",
       "      <td>2020</td>\n",
       "      <td>63.2</td>\n",
       "    </tr>\n",
       "    <tr>\n",
       "      <th>231</th>\n",
       "      <td>충청북도</td>\n",
       "      <td>2021</td>\n",
       "      <td>63.3</td>\n",
       "    </tr>\n",
       "    <tr>\n",
       "      <th>232</th>\n",
       "      <td>충청북도</td>\n",
       "      <td>2022</td>\n",
       "      <td>64.9</td>\n",
       "    </tr>\n",
       "    <tr>\n",
       "      <th>233</th>\n",
       "      <td>충청북도</td>\n",
       "      <td>2023</td>\n",
       "      <td>65.4</td>\n",
       "    </tr>\n",
       "  </tbody>\n",
       "</table>\n",
       "<p>234 rows × 3 columns</p>\n",
       "</div>"
      ],
      "text/plain": [
       "       시도    연도   고용률\n",
       "0     강원도  2006  58.3\n",
       "1     강원도  2008  57.6\n",
       "2     강원도  2010  56.0\n",
       "3     강원도  2012  56.9\n",
       "4     강원도  2014  56.9\n",
       "..    ...   ...   ...\n",
       "229  충청북도  2019  62.9\n",
       "230  충청북도  2020  63.2\n",
       "231  충청북도  2021  63.3\n",
       "232  충청북도  2022  64.9\n",
       "233  충청북도  2023  65.4\n",
       "\n",
       "[234 rows x 3 columns]"
      ]
     },
     "execution_count": 44,
     "metadata": {},
     "output_type": "execute_result"
    }
   ],
   "source": [
    "df_er2"
   ]
  },
  {
   "cell_type": "code",
   "execution_count": null,
   "id": "47b28cfb-9ea0-45b1-9646-67fd31ccb019",
   "metadata": {},
   "outputs": [],
   "source": []
  },
  {
   "cell_type": "code",
   "execution_count": null,
   "id": "189d1716-4f31-4543-8f3b-09119bb32375",
   "metadata": {},
   "outputs": [],
   "source": []
  },
  {
   "cell_type": "code",
   "execution_count": 51,
   "id": "6045b667-121e-441b-9a31-fcfb9966c5df",
   "metadata": {},
   "outputs": [],
   "source": [
    "df_myhome.loc[df_myhome['비율'] == '-', '비율'] = np.nan"
   ]
  },
  {
   "cell_type": "code",
   "execution_count": 54,
   "id": "9cacfe69-756d-4a3c-bb76-0756a4efa5f4",
   "metadata": {},
   "outputs": [],
   "source": [
    "df_myhome.fillna(0, inplace = True)"
   ]
  },
  {
   "cell_type": "code",
   "execution_count": 55,
   "id": "21bee96b-5a6a-4c29-b7ce-25fa54cabdc3",
   "metadata": {},
   "outputs": [
    {
     "data": {
      "text/plain": [
       "연도    0\n",
       "시도    0\n",
       "비율    0\n",
       "dtype: int64"
      ]
     },
     "execution_count": 55,
     "metadata": {},
     "output_type": "execute_result"
    }
   ],
   "source": [
    "df_myhome.isna().sum()"
   ]
  },
  {
   "cell_type": "code",
   "execution_count": null,
   "id": "ce903dc2-7652-4e88-b8ef-0b428c41698d",
   "metadata": {},
   "outputs": [],
   "source": []
  },
  {
   "cell_type": "code",
   "execution_count": null,
   "id": "72073929-2c36-45e8-946e-4a1831653a8e",
   "metadata": {},
   "outputs": [],
   "source": []
  },
  {
   "cell_type": "code",
   "execution_count": null,
   "id": "b61e9fd9-37d0-4942-bd0a-7020eb8d8ccb",
   "metadata": {},
   "outputs": [],
   "source": []
  },
  {
   "cell_type": "code",
   "execution_count": null,
   "id": "9642cf9d-1416-473e-a4cd-ec0e0f0fff73",
   "metadata": {},
   "outputs": [],
   "source": [
    "df_myhome.dtypes"
   ]
  },
  {
   "cell_type": "markdown",
   "id": "14316373-4582-44c3-bc5b-44c8beb7161f",
   "metadata": {},
   "source": [
    "- 결측에 해당하는 비율이 '-'로 되어있다. (isna()에 결측치로 잡히지 않음)\n",
    "- 누락된 년도의 값이 결측치인 값을 모두 0으로 한다."
   ]
  },
  {
   "cell_type": "code",
   "execution_count": null,
   "id": "6adaa3b6-27ac-48f5-a548-1508d23c46e8",
   "metadata": {},
   "outputs": [],
   "source": [
    "df_myhome.loc[(df_myhome['연도'] >= 2006) & (df_myhome['연도'] <= 2012) & (df_myhome['시도'] == '세종특별자치시')]['비율'] = 0"
   ]
  },
  {
   "cell_type": "code",
   "execution_count": null,
   "id": "bb9f74f1-48f0-4415-8bd6-3a9090312927",
   "metadata": {},
   "outputs": [],
   "source": [
    "df_myhome.loc[(df_myhome['연도'] >= 2006) & (df_myhome['연도'] <= 2012) & (df_myhome['시도'] == '세종특별자치시')]['비율']"
   ]
  },
  {
   "cell_type": "code",
   "execution_count": null,
   "id": "fa327eb7-fd81-48b4-aa05-7e782e8680d2",
   "metadata": {},
   "outputs": [],
   "source": [
    "df_myhome['비율'] = df_myhome['비율'].astype(float)"
   ]
  },
  {
   "cell_type": "code",
   "execution_count": null,
   "id": "d68ea94a-2be9-4bb8-a399-5124c741f9bf",
   "metadata": {},
   "outputs": [],
   "source": []
  },
  {
   "cell_type": "code",
   "execution_count": 56,
   "id": "35666809-1013-49d5-b4fa-2b617147c929",
   "metadata": {},
   "outputs": [],
   "source": [
    "df_myhome.to_csv('전처리/자가점유가구비율_전처리.csv', index = False)\n",
    "df_grdp2.to_csv('전처리/GRDP_전처리.csv', index = False)\n",
    "df_er2.to_csv('전처리/고용률_전처리.csv', index = False)"
   ]
  },
  {
   "cell_type": "code",
   "execution_count": null,
   "id": "536d911b-44b0-4fbf-a7b3-6152d4c1e997",
   "metadata": {},
   "outputs": [],
   "source": []
  },
  {
   "cell_type": "code",
   "execution_count": null,
   "id": "88d91ac8-58f6-4452-9a20-9a5233d593fc",
   "metadata": {},
   "outputs": [],
   "source": []
  },
  {
   "cell_type": "code",
   "execution_count": null,
   "id": "e81d8b6d-5440-4767-abac-1376026a50e8",
   "metadata": {},
   "outputs": [],
   "source": []
  }
 ],
 "metadata": {
  "kernelspec": {
   "display_name": "Python (gpu_env)",
   "language": "python",
   "name": "gpu_env"
  },
  "language_info": {
   "codemirror_mode": {
    "name": "ipython",
    "version": 3
   },
   "file_extension": ".py",
   "mimetype": "text/x-python",
   "name": "python",
   "nbconvert_exporter": "python",
   "pygments_lexer": "ipython3",
   "version": "3.10.18"
  }
 },
 "nbformat": 4,
 "nbformat_minor": 5
}
