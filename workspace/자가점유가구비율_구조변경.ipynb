{
 "cells": [
  {
   "cell_type": "code",
   "execution_count": 3,
   "id": "ba4739c7-67b8-4aea-9b12-eecddea69ca5",
   "metadata": {},
   "outputs": [],
   "source": [
    "import pandas as pd\n"
   ]
  },
  {
   "cell_type": "markdown",
   "id": "4f8f34ca-9f54-4ad1-a949-38dcaca849a9",
   "metadata": {},
   "source": [
    "### 자가점유가구비율 통계\n",
    "- 데이터 불러오기"
   ]
  },
  {
   "cell_type": "code",
   "execution_count": 34,
   "id": "90ea7a20-53cf-44ff-9257-8cf5f26ecd90",
   "metadata": {},
   "outputs": [],
   "source": [
    "df = pd.read_excel('07001 자가점유가구비율_202412.xlsx', engine='openpyxl', header = 5)"
   ]
  },
  {
   "cell_type": "code",
   "execution_count": 35,
   "id": "1edbd292-2874-49e1-94cd-2012e9b63cc5",
   "metadata": {},
   "outputs": [],
   "source": [
    "# 열 편집\n",
    "df = df.iloc[:, 1:]\n",
    "df['연도'] = df['Unnamed: 1']\n",
    "df.drop('Unnamed: 1', axis =1, inplace = True)"
   ]
  },
  {
   "cell_type": "code",
   "execution_count": 36,
   "id": "39a80cd2-da71-4745-8c14-74d6b3a768e1",
   "metadata": {},
   "outputs": [
    {
     "data": {
      "text/plain": [
       "Index(['전국', '수도권', '광역시', '도지역', '서울', '부산', '대구', '인천', '광주', '대전', '울산',\n",
       "       '세종', '경기', '강원', '충북', '충남', '전북', '전남', '경북', '경남', '제주', '연도'],\n",
       "      dtype='object')"
      ]
     },
     "execution_count": 36,
     "metadata": {},
     "output_type": "execute_result"
    }
   ],
   "source": [
    "df.columns"
   ]
  },
  {
   "cell_type": "code",
   "execution_count": 37,
   "id": "7e1f56d5-6ccc-4df3-891f-b41cd7d47bc1",
   "metadata": {},
   "outputs": [],
   "source": [
    "reg_cols = ['전국', '수도권', '광역시', '도지역', '서울', '부산', '대구', '인천', '광주', '대전', '울산',\n",
    "       '세종', '경기', '강원', '충북', '충남', '전북', '전남', '경북', '경남', '제주']"
   ]
  },
  {
   "cell_type": "code",
   "execution_count": 40,
   "id": "8ea29885-8fb2-4403-8ee7-e70f4856b3e5",
   "metadata": {},
   "outputs": [],
   "source": [
    "# melt 함수로 구조 변경\n",
    "df = df.melt(id_vars = ['연도'], value_vars = reg_cols)"
   ]
  },
  {
   "cell_type": "code",
   "execution_count": 46,
   "id": "16bd18fa-7f03-4666-b158-c39bd7e7d021",
   "metadata": {},
   "outputs": [],
   "source": [
    "df.columns = ['연도', '시도', '비율']"
   ]
  },
  {
   "cell_type": "code",
   "execution_count": 47,
   "id": "43e6faa5-695c-43ea-b890-d6e6701352c4",
   "metadata": {},
   "outputs": [
    {
     "data": {
      "text/html": [
       "<div>\n",
       "<style scoped>\n",
       "    .dataframe tbody tr th:only-of-type {\n",
       "        vertical-align: middle;\n",
       "    }\n",
       "\n",
       "    .dataframe tbody tr th {\n",
       "        vertical-align: top;\n",
       "    }\n",
       "\n",
       "    .dataframe thead th {\n",
       "        text-align: right;\n",
       "    }\n",
       "</style>\n",
       "<table border=\"1\" class=\"dataframe\">\n",
       "  <thead>\n",
       "    <tr style=\"text-align: right;\">\n",
       "      <th></th>\n",
       "      <th>연도</th>\n",
       "      <th>시도</th>\n",
       "      <th>비율</th>\n",
       "    </tr>\n",
       "  </thead>\n",
       "  <tbody>\n",
       "    <tr>\n",
       "      <th>0</th>\n",
       "      <td>2006</td>\n",
       "      <td>전국</td>\n",
       "      <td>55.6</td>\n",
       "    </tr>\n",
       "    <tr>\n",
       "      <th>1</th>\n",
       "      <td>2008</td>\n",
       "      <td>전국</td>\n",
       "      <td>56.4</td>\n",
       "    </tr>\n",
       "    <tr>\n",
       "      <th>2</th>\n",
       "      <td>2010</td>\n",
       "      <td>전국</td>\n",
       "      <td>54.3</td>\n",
       "    </tr>\n",
       "    <tr>\n",
       "      <th>3</th>\n",
       "      <td>2012</td>\n",
       "      <td>전국</td>\n",
       "      <td>53.8</td>\n",
       "    </tr>\n",
       "    <tr>\n",
       "      <th>4</th>\n",
       "      <td>2014</td>\n",
       "      <td>전국</td>\n",
       "      <td>53.6</td>\n",
       "    </tr>\n",
       "    <tr>\n",
       "      <th>...</th>\n",
       "      <td>...</td>\n",
       "      <td>...</td>\n",
       "      <td>...</td>\n",
       "    </tr>\n",
       "    <tr>\n",
       "      <th>268</th>\n",
       "      <td>2019</td>\n",
       "      <td>제주</td>\n",
       "      <td>58.1</td>\n",
       "    </tr>\n",
       "    <tr>\n",
       "      <th>269</th>\n",
       "      <td>2020</td>\n",
       "      <td>제주</td>\n",
       "      <td>58.6</td>\n",
       "    </tr>\n",
       "    <tr>\n",
       "      <th>270</th>\n",
       "      <td>2021</td>\n",
       "      <td>제주</td>\n",
       "      <td>56.6</td>\n",
       "    </tr>\n",
       "    <tr>\n",
       "      <th>271</th>\n",
       "      <td>2022</td>\n",
       "      <td>제주</td>\n",
       "      <td>56.84</td>\n",
       "    </tr>\n",
       "    <tr>\n",
       "      <th>272</th>\n",
       "      <td>2023</td>\n",
       "      <td>제주</td>\n",
       "      <td>57.1</td>\n",
       "    </tr>\n",
       "  </tbody>\n",
       "</table>\n",
       "<p>273 rows × 3 columns</p>\n",
       "</div>"
      ],
      "text/plain": [
       "       연도  시도     비율\n",
       "0    2006  전국   55.6\n",
       "1    2008  전국   56.4\n",
       "2    2010  전국   54.3\n",
       "3    2012  전국   53.8\n",
       "4    2014  전국   53.6\n",
       "..    ...  ..    ...\n",
       "268  2019  제주   58.1\n",
       "269  2020  제주   58.6\n",
       "270  2021  제주   56.6\n",
       "271  2022  제주  56.84\n",
       "272  2023  제주   57.1\n",
       "\n",
       "[273 rows x 3 columns]"
      ]
     },
     "execution_count": 47,
     "metadata": {},
     "output_type": "execute_result"
    }
   ],
   "source": [
    "df"
   ]
  },
  {
   "cell_type": "code",
   "execution_count": 54,
   "id": "de73d865-a07c-42e9-a013-9420de121c10",
   "metadata": {},
   "outputs": [],
   "source": [
    "df.to_csv('자가점유가구비율/자가점유가구비율.csv', index = False)"
   ]
  },
  {
   "cell_type": "code",
   "execution_count": null,
   "id": "9e107d18-a7f6-44d4-a3a5-d692a21a5ab6",
   "metadata": {},
   "outputs": [],
   "source": []
  }
 ],
 "metadata": {
  "kernelspec": {
   "display_name": "Python 3 (ipykernel)",
   "language": "python",
   "name": "python3"
  },
  "language_info": {
   "codemirror_mode": {
    "name": "ipython",
    "version": 3
   },
   "file_extension": ".py",
   "mimetype": "text/x-python",
   "name": "python",
   "nbconvert_exporter": "python",
   "pygments_lexer": "ipython3",
   "version": "3.10.18"
  }
 },
 "nbformat": 4,
 "nbformat_minor": 5
}
